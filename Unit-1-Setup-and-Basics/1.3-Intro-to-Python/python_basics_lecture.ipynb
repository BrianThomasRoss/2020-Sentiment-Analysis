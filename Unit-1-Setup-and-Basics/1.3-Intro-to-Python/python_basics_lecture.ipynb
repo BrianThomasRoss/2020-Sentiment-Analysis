{
  "nbformat": 4,
  "nbformat_minor": 0,
  "metadata": {
    "colab": {
      "name": "python_basics.ipynb",
      "provenance": [],
      "authorship_tag": "ABX9TyOyjz5Sc/+Q0VhOtR4YJuMd",
      "include_colab_link": true
    },
    "kernelspec": {
      "name": "python3",
      "display_name": "Python 3"
    },
    "language_info": {
      "name": "python"
    }
  },
  "cells": [
    {
      "cell_type": "markdown",
      "metadata": {
        "id": "view-in-github",
        "colab_type": "text"
      },
      "source": [
        "<a href=\"https://colab.research.google.com/github/BrianThomasRoss/2020-Sentiment-Analysis/blob/master/Unit-1-Setup-and-Basics/1.3-Intro-to-Python/python_basics_lecture.ipynb\" target=\"_parent\"><img src=\"https://colab.research.google.com/assets/colab-badge.svg\" alt=\"Open In Colab\"/></a>"
      ]
    },
    {
      "cell_type": "markdown",
      "source": [
        "# Welcome to the Python Programming Language\n",
        "----\n",
        "\n"
      ],
      "metadata": {
        "id": "EwaevImlAByU"
      }
    },
    {
      "cell_type": "markdown",
      "source": [
        "Python comes highly recommended as a first language for those new to programming because of its wide adoption, ease of use, and large community. According to [Wikipedia](https://en.wikipedia.org/wiki/Python_(programming_language)):\n",
        "\n",
        "> Guido van Rossum began working on Python in the late 1980s, as a successor to the ABC programming language, and first released it in 1991 as Python 0.9.0. Python 2.0 was released in 2000 and introduced new features, such as list comprehensions and a cycle-detecting garbage collection system (in addition to reference counting). Python 3.0 was released in 2008 and was a major revision of the language that is not completely backward-compatible. Python 2 was discontinued with version 2.7.18 in 2020.\n",
        "\n",
        "Python is a **general use** language, meaning that it has a wide variety of applications and use cases. Today Python is used in almost every industry for things like artificial intelligence engineering, web design, financial modelling and planning, healthcare and many more. Python can be used to create **front end** components like web applications and desktop GUIs (Graphical User Interface). Front end components are those components of an application that a user can interact with. They are likely what you're currently most familiar with. They are the buttons, search bars, and pages you click and manipulate when you use a computer application. As you will learn however there is much more to even a simple application or program than the front end. The **back end** components of an application are abstracted away from the user by the front end but consist of components like databases, APIs (application program interface), caches and more. Don't worry if you're a little confused at this point but if you would like to know more about the difference between the front and back end of an application an article is available [here](https://kenzie.snhu.edu/blog/front-end-vs-back-end-whats-the-difference/) (*hint: this might be helpful for the assignment*).\n",
        "\n"
      ],
      "metadata": {
        "id": "5IoqBZJ2AL8F"
      }
    },
    {
      "cell_type": "markdown",
      "source": [
        "### Open Source Software (OSS)\n",
        "\n",
        "In addition to Python's numerous contributions and use cases in a variety of industries it has also been at the forefront of the **open source** community. According to another behemoth in the open source community, [RedHat](https://www.redhat.com/en/topics/open-source/what-is-open-source):\n",
        "\n",
        ">Open source is a term that originally referred to open source software (OSS). Open source software is code that is designed to be publicly accessible—anyone can see, modify, and distribute the code as they see fit.\n",
        ">\n",
        ">Open source software is developed in a decentralized and collaborative way, relying on peer review and community production. Open source software is often cheaper, more flexible, and has more longevity than its proprietary peers because it is developed by communities rather than a single author or company.\n",
        ">\n",
        ">Open source has become a movement and a way of working that reaches beyond software production. The open source movement uses the values and decentralized production model of open source software to find new ways to solve problems in their communities and industries.\n",
        "\n",
        "One of the great benefits of open source collaboration is being to able to work with a diverse community of contributors with unique perspectives. As a consequence, the open source community has also been leading the charge making programming and tech a more inclusive and equitable space for all. This culture and philosophy has directly had an impact on the history of Python and is even codified into the language via the Python Software Foudation's [Code of Conduct](https://www.python.org/psf/conduct/):\n",
        "\n",
        "```\n",
        "Every member of our community has the right to have their identity respected. The Python community is dedicated to providing a positive experience for everyone, regardless of age, gender identity and expression, sexual orientation, disability, physical appearance, body size, ethnicity, nationality, race, or religion (or lack thereof), education, or socio-economic status.\n",
        "```"
      ],
      "metadata": {
        "id": "EiUdNo-ZQOtE"
      }
    },
    {
      "cell_type": "markdown",
      "source": [
        "### The Zen of Python\n",
        "\n",
        "Python is designed to be a user friendly and straightforward language first and foremost. Python has a clearly defined process for enhancements or changes to the language. These are referred to a Python Enhancement Proposals or PEPs. For a PEP to be accepted it must go through a rigorous process in addition to acquiring substantial support from the community. One of the first proposals accepted [PEP 20](https://www.python.org/dev/peps/pep-0020/) outlines the design philosophy and principles in Python. It has since been made available as an easter egg in the language itself.\n",
        "\n",
        "Let's run the first code cell below\n",
        "(<kbd>Shift</kbd> + <kbd>Enter</kbd>) to bring it up!"
      ],
      "metadata": {
        "id": "6V9PJ0NEWp_t"
      }
    },
    {
      "cell_type": "code",
      "source": [
        "import this"
      ],
      "metadata": {
        "colab": {
          "base_uri": "https://localhost:8080/"
        },
        "id": "Nz_SGyEKYdX2",
        "outputId": "02dcbccd-4522-43f2-a11f-0dde62460662"
      },
      "execution_count": 1,
      "outputs": [
        {
          "output_type": "stream",
          "name": "stdout",
          "text": [
            "The Zen of Python, by Tim Peters\n",
            "\n",
            "Beautiful is better than ugly.\n",
            "Explicit is better than implicit.\n",
            "Simple is better than complex.\n",
            "Complex is better than complicated.\n",
            "Flat is better than nested.\n",
            "Sparse is better than dense.\n",
            "Readability counts.\n",
            "Special cases aren't special enough to break the rules.\n",
            "Although practicality beats purity.\n",
            "Errors should never pass silently.\n",
            "Unless explicitly silenced.\n",
            "In the face of ambiguity, refuse the temptation to guess.\n",
            "There should be one-- and preferably only one --obvious way to do it.\n",
            "Although that way may not be obvious at first unless you're Dutch.\n",
            "Now is better than never.\n",
            "Although never is often better than *right* now.\n",
            "If the implementation is hard to explain, it's a bad idea.\n",
            "If the implementation is easy to explain, it may be a good idea.\n",
            "Namespaces are one honking great idea -- let's do more of those!\n"
          ]
        }
      ]
    },
    {
      "cell_type": "markdown",
      "source": [
        "These aphormisms encapsulate what it means to write Pythonic code, or code that favors useability, simplicity and extensibility."
      ],
      "metadata": {
        "id": "NVLMulj2YM4S"
      }
    },
    {
      "cell_type": "markdown",
      "source": [
        "### The Development Environment"
      ],
      "metadata": {
        "id": "-fksgEMBvLYL"
      }
    },
    {
      "cell_type": "markdown",
      "source": [
        "Before we can start planning the next great start up that will compete with Facebook and Google we need to familiarize ourselves with some terms and concepts. As you're no doubt already aware the computer in front of you is made up of various complex components, physical and virtual, that together provide you with a way to access the tools that have become a part of daily life for nearly everyone.\n",
        "\n",
        "**So what exactly is a development environment?**\n",
        "\n",
        "No we're not talking about the vibe of the room you're sitting in, a **development environment** is where a programmer, or developer, does their work. A development environment can be **remote**, meaning it can be accessed through the internet or other network like the one you are using now. A dev environment can also be **local**, a local environemnt exists on the PC in front of you with all the tools installed and requires no internet access.\n",
        "\n",
        "**What are the parts of a development environment?**\n",
        "\n",
        "The lowest level of the environment that most of you are familiar with is the **operating system**, or OS. The operating system is the majority of people interact with the computer. It provides graphical and user friendly interfaces for users to interact with. However the operating system is itself the combination of a number of other programs working behind the scenes **abstracted** away from the end user.\n",
        "\n",
        "Many of you are familiar with Microsoft's Windows operating system\n",
        "\n",
        "**The Kernel**\n",
        "\n",
        "\n",
        "\n"
      ],
      "metadata": {
        "id": "NKZVly-ovcDk"
      }
    },
    {
      "cell_type": "markdown",
      "source": [
        "### Colab and Jupyter\n",
        "\n",
        "What we're using right now is what is called a **Jupyter notebook**. Jupyter notebooks provide a web-based, interactive and shareable runtime for Python and other languages. This notebook is hosted in the cloud (read: someone else's computer) by Google Collaboratory which allows users to run Jupyter notebooks using Google's servers.\n",
        "\n",
        "Having a ready to go environment will allow us to explore and become familiar with the language without having to worry about more complex set up processes.\n",
        "\n",
        "Running the cell below will bring up a helpful video for getting started with Google Colab."
      ],
      "metadata": {
        "id": "ZfOEEHGJZCkF"
      }
    },
    {
      "cell_type": "code",
      "source": [
        "from IPython.display import HTML\n",
        "\n",
        "HTML(\"\"\"\n",
        "<iframe width=\"560\" height=\"315\" src=\"https://www.youtube.com/embed/inN8seMm7UI\"\n",
        "        title=\"YouTube video player\" frameborder=\"0\" \n",
        "        allow=\"accelerometer; autoplay; clipboard-write; encrypted-media; gyroscope; picture-in-picture\" allowfullscreen>\n",
        "</iframe>\n",
        "\"\"\")"
      ],
      "metadata": {
        "colab": {
          "base_uri": "https://localhost:8080/",
          "height": 336
        },
        "id": "NjJ0E5tOZBlk",
        "outputId": "c255c857-26e1-4a27-c29a-0bda87a06c97"
      },
      "execution_count": 2,
      "outputs": [
        {
          "output_type": "execute_result",
          "data": {
            "text/html": [
              "\n",
              "<iframe width=\"560\" height=\"315\" src=\"https://www.youtube.com/embed/inN8seMm7UI\"\n",
              "        title=\"YouTube video player\" frameborder=\"0\" \n",
              "        allow=\"accelerometer; autoplay; clipboard-write; encrypted-media; gyroscope; picture-in-picture\" allowfullscreen>\n",
              "</iframe>\n"
            ],
            "text/plain": [
              "<IPython.core.display.HTML object>"
            ]
          },
          "metadata": {},
          "execution_count": 2
        }
      ]
    },
    {
      "cell_type": "markdown",
      "source": [
        "Some helpful tips for working with Colab:\n",
        "\n",
        "*TODO: ADD TIPS FOR DEBUGGING AND TROUBLESHOOTING*"
      ],
      "metadata": {
        "id": "mhmMAbmcuvRX"
      }
    },
    {
      "cell_type": "markdown",
      "source": [
        "## So let's get started with our first lines of code\n",
        "\n",
        "As is tradition we will begin with the \"Hello, World!\" exercise."
      ],
      "metadata": {
        "id": "JwllsWKnuU2W"
      }
    },
    {
      "cell_type": "code",
      "source": [
        "print(\"Hello, World!\")"
      ],
      "metadata": {
        "id": "nMjHmE4su3Vk",
        "outputId": "111ed602-1f52-469f-ca65-04007a91bea2",
        "colab": {
          "base_uri": "https://localhost:8080/"
        }
      },
      "execution_count": 1,
      "outputs": [
        {
          "output_type": "stream",
          "name": "stdout",
          "text": [
            "Hello, World!\n"
          ]
        }
      ]
    },
    {
      "cell_type": "code",
      "source": [
        ""
      ],
      "metadata": {
        "id": "rsGdFP6cu7FF"
      },
      "execution_count": null,
      "outputs": []
    }
  ]
}